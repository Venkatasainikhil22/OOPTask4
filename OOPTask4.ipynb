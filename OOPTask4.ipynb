{
  "nbformat": 4,
  "nbformat_minor": 0,
  "metadata": {
    "colab": {
      "name": "OOPTask4",
      "provenance": [],
      "authorship_tag": "ABX9TyMA9ZdLPPu+bK80BtJkXzKH",
      "include_colab_link": true
    },
    "kernelspec": {
      "name": "python3",
      "display_name": "Python 3"
    },
    "language_info": {
      "name": "python"
    }
  },
  "cells": [
    {
      "cell_type": "markdown",
      "metadata": {
        "id": "view-in-github",
        "colab_type": "text"
      },
      "source": [
        "<a href=\"https://colab.research.google.com/github/Venkatasainikhil22/OOPTask4/blob/main/OOPTask4.ipynb\" target=\"_parent\"><img src=\"https://colab.research.google.com/assets/colab-badge.svg\" alt=\"Open In Colab\"/></a>"
      ]
    },
    {
      "cell_type": "code",
      "metadata": {
        "colab": {
          "base_uri": "https://localhost:8080/",
          "height": 0
        },
        "id": "SO81-Ox0Wjls",
        "outputId": "a9184903-3bf8-4ace-d7a2-a5a4a901f8f4"
      },
      "source": [
        "#1st question\n",
        "class Node:\n",
        "    def __init__(self, data):\n",
        "        self.data = data\n",
        "        self.next = None\n",
        "    \n",
        "    def __del__(self):\n",
        "        print(f\"Element {self.data} deleted\")\n",
        "\n",
        "class Stack(Node):\n",
        "    def __init__(self):\n",
        "        self.head = Node(None)\n",
        "        self.size = 0\n",
        "\n",
        "    def isEmpty(self):\n",
        "        return self.size == 0\n",
        "\n",
        "    def push(self, data):\n",
        "        temp = Node(data)\n",
        "        temp.next = self.head.next\n",
        "        self.head.next = temp\n",
        "        self.size += 1\n",
        "    \n",
        "    def pop(self):\n",
        "        if self.isEmpty():\n",
        "            print(\"Stack Empty\")\n",
        "        delete = self.head.next\n",
        "        self.head.next = self.head.next.next\n",
        "        self.size -= 1\n",
        "        return delete.data\n",
        "\n",
        "    def displayStack(self):\n",
        "        iter = self.head.next\n",
        "        print(\"Stack : \", end=\"\")\n",
        "        while iter:\n",
        "            print(iter.data, end=\"\\t\")\n",
        "            iter = iter.next\n",
        "        print()\n",
        "\n",
        "    def __del__(self):\n",
        "        if not self.isEmpty():\n",
        "            iter = self.head\n",
        "            while iter:\n",
        "                temp = iter.next\n",
        "                del iter\n",
        "                self.size -= 1\n",
        "                iter = temp              \n",
        "\n",
        "S = Stack()\n",
        "for i in range(1, 11):\n",
        "    S.push(i)\n",
        "\n",
        "S.displayStack()\n",
        "\n",
        "for i in range(1, 3):\n",
        "    delete = S.pop()\n",
        "    print(f\"Popped element : {delete}\")\n",
        "\n",
        "S.displayStack()"
      ],
      "execution_count": 5,
      "outputs": [
        {
          "output_type": "stream",
          "name": "stdout",
          "text": [
            "Stack : 10\t9\t8\t7\t6\t5\t4\t3\t2\t1\t\n",
            "Element 10 deleted\n",
            "Popped element : 10\n",
            "Element 9 deleted\n",
            "Popped element : 9\n",
            "Stack : 8\t7\t6\t5\t4\t3\t2\t1\t\n"
          ]
        }
      ]
    },
    {
      "cell_type": "code",
      "metadata": {
        "colab": {
          "base_uri": "https://localhost:8080/",
          "height": 0
        },
        "id": "WTUa3BpqWvU6",
        "outputId": "f5e8fbb7-b703-4565-acef-2bc8af4514fa"
      },
      "source": [
        "#2nd question (a)\n",
        "#PARAMETERIZED CONSTRUCTOR\n",
        "class Rectangle():\n",
        "    def __init__(self, l, w):\n",
        "        self.length = l\n",
        "        self.width  = w\n",
        "\n",
        "    def rectangle_area(self):\n",
        "        return self.length*self.width\n",
        "\n",
        "newRectangle = Rectangle(9, 8)\n",
        "print(newRectangle.rectangle_area())"
      ],
      "execution_count": 2,
      "outputs": [
        {
          "output_type": "stream",
          "name": "stdout",
          "text": [
            "72\n"
          ]
        }
      ]
    },
    {
      "cell_type": "code",
      "metadata": {
        "colab": {
          "base_uri": "https://localhost:8080/",
          "height": 0
        },
        "id": "zF2Sjn5BW5lm",
        "outputId": "af18610a-48c5-44fa-c6b2-67b40d6ebc63"
      },
      "source": [
        "#2nd question (b)\n",
        "#DEFAULT CONSTRUCTOR\n",
        "class Rectangle():\n",
        "    def __init__(self):\n",
        "      self.length = 9\n",
        "      self.width = 8\n",
        "    def rectangle_area(self):\n",
        "        return self.length*self.width\n",
        "    \n",
        "newRectangle = Rectangle()\n",
        "print(newRectangle.rectangle_area())"
      ],
      "execution_count": 3,
      "outputs": [
        {
          "output_type": "stream",
          "name": "stdout",
          "text": [
            "72\n"
          ]
        }
      ]
    },
    {
      "cell_type": "code",
      "metadata": {
        "colab": {
          "base_uri": "https://localhost:8080/",
          "height": 0
        },
        "id": "m3-N_cqDW-gC",
        "outputId": "40b4e889-f1f2-409a-e9be-a06c1ef9045f"
      },
      "source": [
        "#3rd question\n",
        "class Queue:\n",
        "\n",
        "    def __init__(self):\n",
        "        self.queue = []\n",
        "\n",
        "    # Add an element\n",
        "    def enqueue(self, item):\n",
        "        self.queue.append(item)\n",
        "\n",
        "    # Delete an element\n",
        "    def dequeue(self):\n",
        "        if len(self.queue) < 1:\n",
        "            return None\n",
        "        return self.queue.pop(0)\n",
        "\n",
        "    # Display  the queue\n",
        "    def display(self):\n",
        "        print(self.queue)\n",
        "\n",
        "    def size(self):\n",
        "        return len(self.queue)\n",
        "\n",
        "\n",
        "q = Queue()\n",
        "q.enqueue(1)\n",
        "q.enqueue(2)\n",
        "q.enqueue(3)\n",
        "q.enqueue(4)\n",
        "q.enqueue(5)\n",
        "q.enqueue(6)\n",
        "\n",
        "# Display queue elements\n",
        "q.display()\n",
        "\n",
        "# Deleting element of queue\n",
        "q.dequeue()\n",
        "print(\"After Deleting an element\")\n",
        "\n",
        "# Display queue elements\n",
        "q.display()"
      ],
      "execution_count": 4,
      "outputs": [
        {
          "output_type": "stream",
          "name": "stdout",
          "text": [
            "[1, 2, 3, 4, 5, 6]\n",
            "After Deleting an element\n",
            "[2, 3, 4, 5, 6]\n"
          ]
        }
      ]
    }
  ]
}